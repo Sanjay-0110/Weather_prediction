{
 "cells": [
  {
   "cell_type": "code",
   "execution_count": 1,
   "id": "initial_id",
   "metadata": {
    "collapsed": true,
    "ExecuteTime": {
     "end_time": "2024-03-14T13:38:45.524312200Z",
     "start_time": "2024-03-14T13:38:45.445113400Z"
    }
   },
   "outputs": [],
   "source": [
    "import numpy as np\n",
    "import pandas as pd\n",
    "import matplotlib.pyplot as plt\n",
    "import seaborn as sns"
   ]
  },
  {
   "cell_type": "code",
   "outputs": [],
   "source": [
    "df=pd.read_csv(\"local_weather.csv\",index_col=\"DATE\")"
   ],
   "metadata": {
    "collapsed": false,
    "ExecuteTime": {
     "end_time": "2024-03-14T13:40:03.740029400Z",
     "start_time": "2024-03-14T13:40:03.601924700Z"
    }
   },
   "id": "f80020296c8554b7",
   "execution_count": 4
  },
  {
   "cell_type": "code",
   "outputs": [
    {
     "data": {
      "text/plain": "                STATION                                  NAME  ACMH  ACSH  \\\nDATE                                                                        \n1960-01-01  USW00023230  OAKLAND INTERNATIONAL AIRPORT, CA US   NaN   NaN   \n1960-01-02  USW00023230  OAKLAND INTERNATIONAL AIRPORT, CA US   NaN   NaN   \n1960-01-03  USW00023230  OAKLAND INTERNATIONAL AIRPORT, CA US   NaN   NaN   \n1960-01-04  USW00023230  OAKLAND INTERNATIONAL AIRPORT, CA US   NaN   NaN   \n1960-01-05  USW00023230  OAKLAND INTERNATIONAL AIRPORT, CA US   NaN   NaN   \n...                 ...                                   ...   ...   ...   \n2022-01-24  USW00023230  OAKLAND INTERNATIONAL AIRPORT, CA US   NaN   NaN   \n2022-01-25  USW00023230  OAKLAND INTERNATIONAL AIRPORT, CA US   NaN   NaN   \n2022-01-26  USW00023230  OAKLAND INTERNATIONAL AIRPORT, CA US   NaN   NaN   \n2022-01-27  USW00023230  OAKLAND INTERNATIONAL AIRPORT, CA US   NaN   NaN   \n2022-01-28  USW00023230  OAKLAND INTERNATIONAL AIRPORT, CA US   NaN   NaN   \n\n            AWND  DAPR  FMTM  FRGT  MDPR    PGTM  ...  WT01  WT02  WT03  WT04  \\\nDATE                                              ...                           \n1960-01-01   NaN   NaN   NaN   NaN   NaN     NaN  ...   NaN   NaN   NaN   NaN   \n1960-01-02   NaN   NaN   NaN   NaN   NaN     NaN  ...   NaN   NaN   NaN   NaN   \n1960-01-03   NaN   NaN   NaN   NaN   NaN     NaN  ...   NaN   NaN   NaN   NaN   \n1960-01-04   NaN   NaN   NaN   NaN   NaN     NaN  ...   NaN   NaN   NaN   NaN   \n1960-01-05   NaN   NaN   NaN   NaN   NaN     NaN  ...   1.0   NaN   NaN   NaN   \n...          ...   ...   ...   ...   ...     ...  ...   ...   ...   ...   ...   \n2022-01-24  4.47   NaN   NaN   NaN   NaN     NaN  ...   1.0   NaN   NaN   NaN   \n2022-01-25  4.70   NaN   NaN   NaN   NaN     NaN  ...   1.0   NaN   NaN   NaN   \n2022-01-26  2.68   NaN   NaN   NaN   NaN     NaN  ...   1.0   NaN   NaN   NaN   \n2022-01-27  3.13   NaN   NaN   NaN   NaN  1526.0  ...   1.0   NaN   NaN   NaN   \n2022-01-28   NaN   NaN   NaN   NaN   NaN     NaN  ...   NaN   NaN   NaN   NaN   \n\n            WT05  WT07  WT08  WT09  WT16  WT18  \nDATE                                            \n1960-01-01   NaN   NaN   NaN   NaN   NaN   NaN  \n1960-01-02   NaN   NaN   NaN   NaN   1.0   NaN  \n1960-01-03   NaN   NaN   NaN   NaN   NaN   NaN  \n1960-01-04   NaN   NaN   NaN   NaN   NaN   NaN  \n1960-01-05   NaN   NaN   1.0   NaN   NaN   NaN  \n...          ...   ...   ...   ...   ...   ...  \n2022-01-24   NaN   NaN   1.0   NaN   NaN   NaN  \n2022-01-25   NaN   NaN   1.0   NaN   NaN   NaN  \n2022-01-26   NaN   NaN   1.0   NaN   NaN   NaN  \n2022-01-27   NaN   NaN   NaN   NaN   NaN   NaN  \n2022-01-28   NaN   NaN   NaN   NaN   NaN   NaN  \n\n[16859 rows x 35 columns]",
      "text/html": "<div>\n<style scoped>\n    .dataframe tbody tr th:only-of-type {\n        vertical-align: middle;\n    }\n\n    .dataframe tbody tr th {\n        vertical-align: top;\n    }\n\n    .dataframe thead th {\n        text-align: right;\n    }\n</style>\n<table border=\"1\" class=\"dataframe\">\n  <thead>\n    <tr style=\"text-align: right;\">\n      <th></th>\n      <th>STATION</th>\n      <th>NAME</th>\n      <th>ACMH</th>\n      <th>ACSH</th>\n      <th>AWND</th>\n      <th>DAPR</th>\n      <th>FMTM</th>\n      <th>FRGT</th>\n      <th>MDPR</th>\n      <th>PGTM</th>\n      <th>...</th>\n      <th>WT01</th>\n      <th>WT02</th>\n      <th>WT03</th>\n      <th>WT04</th>\n      <th>WT05</th>\n      <th>WT07</th>\n      <th>WT08</th>\n      <th>WT09</th>\n      <th>WT16</th>\n      <th>WT18</th>\n    </tr>\n    <tr>\n      <th>DATE</th>\n      <th></th>\n      <th></th>\n      <th></th>\n      <th></th>\n      <th></th>\n      <th></th>\n      <th></th>\n      <th></th>\n      <th></th>\n      <th></th>\n      <th></th>\n      <th></th>\n      <th></th>\n      <th></th>\n      <th></th>\n      <th></th>\n      <th></th>\n      <th></th>\n      <th></th>\n      <th></th>\n      <th></th>\n    </tr>\n  </thead>\n  <tbody>\n    <tr>\n      <th>1960-01-01</th>\n      <td>USW00023230</td>\n      <td>OAKLAND INTERNATIONAL AIRPORT, CA US</td>\n      <td>NaN</td>\n      <td>NaN</td>\n      <td>NaN</td>\n      <td>NaN</td>\n      <td>NaN</td>\n      <td>NaN</td>\n      <td>NaN</td>\n      <td>NaN</td>\n      <td>...</td>\n      <td>NaN</td>\n      <td>NaN</td>\n      <td>NaN</td>\n      <td>NaN</td>\n      <td>NaN</td>\n      <td>NaN</td>\n      <td>NaN</td>\n      <td>NaN</td>\n      <td>NaN</td>\n      <td>NaN</td>\n    </tr>\n    <tr>\n      <th>1960-01-02</th>\n      <td>USW00023230</td>\n      <td>OAKLAND INTERNATIONAL AIRPORT, CA US</td>\n      <td>NaN</td>\n      <td>NaN</td>\n      <td>NaN</td>\n      <td>NaN</td>\n      <td>NaN</td>\n      <td>NaN</td>\n      <td>NaN</td>\n      <td>NaN</td>\n      <td>...</td>\n      <td>NaN</td>\n      <td>NaN</td>\n      <td>NaN</td>\n      <td>NaN</td>\n      <td>NaN</td>\n      <td>NaN</td>\n      <td>NaN</td>\n      <td>NaN</td>\n      <td>1.0</td>\n      <td>NaN</td>\n    </tr>\n    <tr>\n      <th>1960-01-03</th>\n      <td>USW00023230</td>\n      <td>OAKLAND INTERNATIONAL AIRPORT, CA US</td>\n      <td>NaN</td>\n      <td>NaN</td>\n      <td>NaN</td>\n      <td>NaN</td>\n      <td>NaN</td>\n      <td>NaN</td>\n      <td>NaN</td>\n      <td>NaN</td>\n      <td>...</td>\n      <td>NaN</td>\n      <td>NaN</td>\n      <td>NaN</td>\n      <td>NaN</td>\n      <td>NaN</td>\n      <td>NaN</td>\n      <td>NaN</td>\n      <td>NaN</td>\n      <td>NaN</td>\n      <td>NaN</td>\n    </tr>\n    <tr>\n      <th>1960-01-04</th>\n      <td>USW00023230</td>\n      <td>OAKLAND INTERNATIONAL AIRPORT, CA US</td>\n      <td>NaN</td>\n      <td>NaN</td>\n      <td>NaN</td>\n      <td>NaN</td>\n      <td>NaN</td>\n      <td>NaN</td>\n      <td>NaN</td>\n      <td>NaN</td>\n      <td>...</td>\n      <td>NaN</td>\n      <td>NaN</td>\n      <td>NaN</td>\n      <td>NaN</td>\n      <td>NaN</td>\n      <td>NaN</td>\n      <td>NaN</td>\n      <td>NaN</td>\n      <td>NaN</td>\n      <td>NaN</td>\n    </tr>\n    <tr>\n      <th>1960-01-05</th>\n      <td>USW00023230</td>\n      <td>OAKLAND INTERNATIONAL AIRPORT, CA US</td>\n      <td>NaN</td>\n      <td>NaN</td>\n      <td>NaN</td>\n      <td>NaN</td>\n      <td>NaN</td>\n      <td>NaN</td>\n      <td>NaN</td>\n      <td>NaN</td>\n      <td>...</td>\n      <td>1.0</td>\n      <td>NaN</td>\n      <td>NaN</td>\n      <td>NaN</td>\n      <td>NaN</td>\n      <td>NaN</td>\n      <td>1.0</td>\n      <td>NaN</td>\n      <td>NaN</td>\n      <td>NaN</td>\n    </tr>\n    <tr>\n      <th>...</th>\n      <td>...</td>\n      <td>...</td>\n      <td>...</td>\n      <td>...</td>\n      <td>...</td>\n      <td>...</td>\n      <td>...</td>\n      <td>...</td>\n      <td>...</td>\n      <td>...</td>\n      <td>...</td>\n      <td>...</td>\n      <td>...</td>\n      <td>...</td>\n      <td>...</td>\n      <td>...</td>\n      <td>...</td>\n      <td>...</td>\n      <td>...</td>\n      <td>...</td>\n      <td>...</td>\n    </tr>\n    <tr>\n      <th>2022-01-24</th>\n      <td>USW00023230</td>\n      <td>OAKLAND INTERNATIONAL AIRPORT, CA US</td>\n      <td>NaN</td>\n      <td>NaN</td>\n      <td>4.47</td>\n      <td>NaN</td>\n      <td>NaN</td>\n      <td>NaN</td>\n      <td>NaN</td>\n      <td>NaN</td>\n      <td>...</td>\n      <td>1.0</td>\n      <td>NaN</td>\n      <td>NaN</td>\n      <td>NaN</td>\n      <td>NaN</td>\n      <td>NaN</td>\n      <td>1.0</td>\n      <td>NaN</td>\n      <td>NaN</td>\n      <td>NaN</td>\n    </tr>\n    <tr>\n      <th>2022-01-25</th>\n      <td>USW00023230</td>\n      <td>OAKLAND INTERNATIONAL AIRPORT, CA US</td>\n      <td>NaN</td>\n      <td>NaN</td>\n      <td>4.70</td>\n      <td>NaN</td>\n      <td>NaN</td>\n      <td>NaN</td>\n      <td>NaN</td>\n      <td>NaN</td>\n      <td>...</td>\n      <td>1.0</td>\n      <td>NaN</td>\n      <td>NaN</td>\n      <td>NaN</td>\n      <td>NaN</td>\n      <td>NaN</td>\n      <td>1.0</td>\n      <td>NaN</td>\n      <td>NaN</td>\n      <td>NaN</td>\n    </tr>\n    <tr>\n      <th>2022-01-26</th>\n      <td>USW00023230</td>\n      <td>OAKLAND INTERNATIONAL AIRPORT, CA US</td>\n      <td>NaN</td>\n      <td>NaN</td>\n      <td>2.68</td>\n      <td>NaN</td>\n      <td>NaN</td>\n      <td>NaN</td>\n      <td>NaN</td>\n      <td>NaN</td>\n      <td>...</td>\n      <td>1.0</td>\n      <td>NaN</td>\n      <td>NaN</td>\n      <td>NaN</td>\n      <td>NaN</td>\n      <td>NaN</td>\n      <td>1.0</td>\n      <td>NaN</td>\n      <td>NaN</td>\n      <td>NaN</td>\n    </tr>\n    <tr>\n      <th>2022-01-27</th>\n      <td>USW00023230</td>\n      <td>OAKLAND INTERNATIONAL AIRPORT, CA US</td>\n      <td>NaN</td>\n      <td>NaN</td>\n      <td>3.13</td>\n      <td>NaN</td>\n      <td>NaN</td>\n      <td>NaN</td>\n      <td>NaN</td>\n      <td>1526.0</td>\n      <td>...</td>\n      <td>1.0</td>\n      <td>NaN</td>\n      <td>NaN</td>\n      <td>NaN</td>\n      <td>NaN</td>\n      <td>NaN</td>\n      <td>NaN</td>\n      <td>NaN</td>\n      <td>NaN</td>\n      <td>NaN</td>\n    </tr>\n    <tr>\n      <th>2022-01-28</th>\n      <td>USW00023230</td>\n      <td>OAKLAND INTERNATIONAL AIRPORT, CA US</td>\n      <td>NaN</td>\n      <td>NaN</td>\n      <td>NaN</td>\n      <td>NaN</td>\n      <td>NaN</td>\n      <td>NaN</td>\n      <td>NaN</td>\n      <td>NaN</td>\n      <td>...</td>\n      <td>NaN</td>\n      <td>NaN</td>\n      <td>NaN</td>\n      <td>NaN</td>\n      <td>NaN</td>\n      <td>NaN</td>\n      <td>NaN</td>\n      <td>NaN</td>\n      <td>NaN</td>\n      <td>NaN</td>\n    </tr>\n  </tbody>\n</table>\n<p>16859 rows × 35 columns</p>\n</div>"
     },
     "execution_count": 5,
     "metadata": {},
     "output_type": "execute_result"
    }
   ],
   "source": [
    "df"
   ],
   "metadata": {
    "collapsed": false,
    "ExecuteTime": {
     "end_time": "2024-03-14T13:40:04.456149700Z",
     "start_time": "2024-03-14T13:40:04.404893400Z"
    }
   },
   "id": "ff97d0ba1c262984",
   "execution_count": 5
  },
  {
   "cell_type": "code",
   "outputs": [
    {
     "data": {
      "text/plain": "                STATION                                  NAME  ACMH  ACSH  \\\nDATE                                                                        \n1960-01-01  USW00023230  OAKLAND INTERNATIONAL AIRPORT, CA US   NaN   NaN   \n1960-01-02  USW00023230  OAKLAND INTERNATIONAL AIRPORT, CA US   NaN   NaN   \n1960-01-03  USW00023230  OAKLAND INTERNATIONAL AIRPORT, CA US   NaN   NaN   \n1960-01-04  USW00023230  OAKLAND INTERNATIONAL AIRPORT, CA US   NaN   NaN   \n1960-01-05  USW00023230  OAKLAND INTERNATIONAL AIRPORT, CA US   NaN   NaN   \n1960-01-06  USW00023230  OAKLAND INTERNATIONAL AIRPORT, CA US   NaN   NaN   \n1960-01-07  USW00023230  OAKLAND INTERNATIONAL AIRPORT, CA US   NaN   NaN   \n1960-01-08  USW00023230  OAKLAND INTERNATIONAL AIRPORT, CA US   NaN   NaN   \n1960-01-09  USW00023230  OAKLAND INTERNATIONAL AIRPORT, CA US   NaN   NaN   \n1960-01-10  USW00023230  OAKLAND INTERNATIONAL AIRPORT, CA US   NaN   NaN   \n1960-01-11  USW00023230  OAKLAND INTERNATIONAL AIRPORT, CA US   NaN   NaN   \n1960-01-12  USW00023230  OAKLAND INTERNATIONAL AIRPORT, CA US   NaN   NaN   \n1960-01-13  USW00023230  OAKLAND INTERNATIONAL AIRPORT, CA US   NaN   NaN   \n1960-01-14  USW00023230  OAKLAND INTERNATIONAL AIRPORT, CA US   NaN   NaN   \n1960-01-15  USW00023230  OAKLAND INTERNATIONAL AIRPORT, CA US   NaN   NaN   \n1960-01-16  USW00023230  OAKLAND INTERNATIONAL AIRPORT, CA US   NaN   NaN   \n1960-01-17  USW00023230  OAKLAND INTERNATIONAL AIRPORT, CA US   NaN   NaN   \n1960-01-18  USW00023230  OAKLAND INTERNATIONAL AIRPORT, CA US   NaN   NaN   \n1960-01-19  USW00023230  OAKLAND INTERNATIONAL AIRPORT, CA US   NaN   NaN   \n1960-01-20  USW00023230  OAKLAND INTERNATIONAL AIRPORT, CA US   NaN   NaN   \n1960-01-21  USW00023230  OAKLAND INTERNATIONAL AIRPORT, CA US   NaN   NaN   \n1960-01-22  USW00023230  OAKLAND INTERNATIONAL AIRPORT, CA US   NaN   NaN   \n1960-01-23  USW00023230  OAKLAND INTERNATIONAL AIRPORT, CA US   NaN   NaN   \n1960-01-24  USW00023230  OAKLAND INTERNATIONAL AIRPORT, CA US   NaN   NaN   \n1960-01-25  USW00023230  OAKLAND INTERNATIONAL AIRPORT, CA US   NaN   NaN   \n1960-01-26  USW00023230  OAKLAND INTERNATIONAL AIRPORT, CA US   NaN   NaN   \n1960-01-27  USW00023230  OAKLAND INTERNATIONAL AIRPORT, CA US   NaN   NaN   \n1960-01-28  USW00023230  OAKLAND INTERNATIONAL AIRPORT, CA US   NaN   NaN   \n1960-01-29  USW00023230  OAKLAND INTERNATIONAL AIRPORT, CA US   NaN   NaN   \n1960-01-30  USW00023230  OAKLAND INTERNATIONAL AIRPORT, CA US   NaN   NaN   \n1960-01-31  USW00023230  OAKLAND INTERNATIONAL AIRPORT, CA US   NaN   NaN   \n\n            AWND  DAPR  FMTM  FRGT  MDPR  PGTM  ...  WT01  WT02  WT03  WT04  \\\nDATE                                            ...                           \n1960-01-01   NaN   NaN   NaN   NaN   NaN   NaN  ...   NaN   NaN   NaN   NaN   \n1960-01-02   NaN   NaN   NaN   NaN   NaN   NaN  ...   NaN   NaN   NaN   NaN   \n1960-01-03   NaN   NaN   NaN   NaN   NaN   NaN  ...   NaN   NaN   NaN   NaN   \n1960-01-04   NaN   NaN   NaN   NaN   NaN   NaN  ...   NaN   NaN   NaN   NaN   \n1960-01-05   NaN   NaN   NaN   NaN   NaN   NaN  ...   1.0   NaN   NaN   NaN   \n1960-01-06   NaN   NaN   NaN   NaN   NaN   NaN  ...   NaN   NaN   NaN   NaN   \n1960-01-07   NaN   NaN   NaN   NaN   NaN   NaN  ...   NaN   NaN   NaN   NaN   \n1960-01-08   NaN   NaN   NaN   NaN   NaN   NaN  ...   1.0   NaN   NaN   NaN   \n1960-01-09   NaN   NaN   NaN   NaN   NaN   NaN  ...   1.0   NaN   NaN   NaN   \n1960-01-10   NaN   NaN   NaN   NaN   NaN   NaN  ...   NaN   NaN   NaN   NaN   \n1960-01-11   NaN   NaN   NaN   NaN   NaN   NaN  ...   1.0   NaN   NaN   NaN   \n1960-01-12   NaN   NaN   NaN   NaN   NaN   NaN  ...   NaN   NaN   NaN   NaN   \n1960-01-13   NaN   NaN   NaN   NaN   NaN   NaN  ...   NaN   NaN   NaN   NaN   \n1960-01-14   NaN   NaN   NaN   NaN   NaN   NaN  ...   NaN   NaN   NaN   NaN   \n1960-01-15   NaN   NaN   NaN   NaN   NaN   NaN  ...   NaN   NaN   NaN   NaN   \n1960-01-16   NaN   NaN   NaN   NaN   NaN   NaN  ...   NaN   NaN   NaN   NaN   \n1960-01-17   NaN   NaN   NaN   NaN   NaN   NaN  ...   NaN   NaN   NaN   NaN   \n1960-01-18   NaN   NaN   NaN   NaN   NaN   NaN  ...   NaN   NaN   NaN   NaN   \n1960-01-19   NaN   NaN   NaN   NaN   NaN   NaN  ...   1.0   NaN   NaN   NaN   \n1960-01-20   NaN   NaN   NaN   NaN   NaN   NaN  ...   NaN   NaN   NaN   NaN   \n1960-01-21   NaN   NaN   NaN   NaN   NaN   NaN  ...   NaN   NaN   NaN   NaN   \n1960-01-22   NaN   NaN   NaN   NaN   NaN   NaN  ...   NaN   NaN   NaN   NaN   \n1960-01-23   NaN   NaN   NaN   NaN   NaN   NaN  ...   1.0   NaN   NaN   NaN   \n1960-01-24   NaN   NaN   NaN   NaN   NaN   NaN  ...   1.0   NaN   NaN   NaN   \n1960-01-25   NaN   NaN   NaN   NaN   NaN   NaN  ...   1.0   NaN   NaN   NaN   \n1960-01-26   NaN   NaN   NaN   NaN   NaN   NaN  ...   1.0   NaN   NaN   NaN   \n1960-01-27   NaN   NaN   NaN   NaN   NaN   NaN  ...   NaN   NaN   NaN   NaN   \n1960-01-28   NaN   NaN   NaN   NaN   NaN   NaN  ...   NaN   NaN   NaN   NaN   \n1960-01-29   NaN   NaN   NaN   NaN   NaN   NaN  ...   NaN   NaN   NaN   NaN   \n1960-01-30   NaN   NaN   NaN   NaN   NaN   NaN  ...   1.0   NaN   NaN   NaN   \n1960-01-31   NaN   NaN   NaN   NaN   NaN   NaN  ...   1.0   NaN   NaN   NaN   \n\n            WT05  WT07  WT08  WT09  WT16  WT18  \nDATE                                            \n1960-01-01   NaN   NaN   NaN   NaN   NaN   NaN  \n1960-01-02   NaN   NaN   NaN   NaN   1.0   NaN  \n1960-01-03   NaN   NaN   NaN   NaN   NaN   NaN  \n1960-01-04   NaN   NaN   NaN   NaN   NaN   NaN  \n1960-01-05   NaN   NaN   1.0   NaN   NaN   NaN  \n1960-01-06   NaN   NaN   1.0   NaN   NaN   NaN  \n1960-01-07   NaN   NaN   1.0   NaN   1.0   NaN  \n1960-01-08   NaN   NaN   NaN   NaN   1.0   NaN  \n1960-01-09   NaN   NaN   NaN   NaN   1.0   NaN  \n1960-01-10   NaN   NaN   NaN   NaN   1.0   NaN  \n1960-01-11   NaN   NaN   NaN   NaN   1.0   NaN  \n1960-01-12   NaN   NaN   NaN   NaN   NaN   NaN  \n1960-01-13   NaN   NaN   NaN   NaN   1.0   NaN  \n1960-01-14   NaN   NaN   NaN   NaN   1.0   NaN  \n1960-01-15   NaN   NaN   NaN   NaN   NaN   NaN  \n1960-01-16   NaN   NaN   NaN   NaN   NaN   NaN  \n1960-01-17   NaN   NaN   1.0   NaN   NaN   NaN  \n1960-01-18   NaN   NaN   1.0   NaN   1.0   NaN  \n1960-01-19   NaN   NaN   1.0   NaN   NaN   NaN  \n1960-01-20   NaN   NaN   NaN   NaN   NaN   NaN  \n1960-01-21   NaN   NaN   NaN   NaN   1.0   NaN  \n1960-01-22   NaN   NaN   NaN   NaN   1.0   NaN  \n1960-01-23   NaN   NaN   1.0   NaN   NaN   NaN  \n1960-01-24   NaN   NaN   1.0   NaN   1.0   NaN  \n1960-01-25   NaN   NaN   NaN   NaN   1.0   NaN  \n1960-01-26   NaN   NaN   NaN   NaN   1.0   NaN  \n1960-01-27   NaN   NaN   NaN   NaN   NaN   NaN  \n1960-01-28   NaN   NaN   1.0   NaN   NaN   NaN  \n1960-01-29   NaN   NaN   1.0   NaN   1.0   NaN  \n1960-01-30   NaN   NaN   1.0   NaN   1.0   NaN  \n1960-01-31   NaN   NaN   1.0   NaN   1.0   NaN  \n\n[31 rows x 35 columns]",
      "text/html": "<div>\n<style scoped>\n    .dataframe tbody tr th:only-of-type {\n        vertical-align: middle;\n    }\n\n    .dataframe tbody tr th {\n        vertical-align: top;\n    }\n\n    .dataframe thead th {\n        text-align: right;\n    }\n</style>\n<table border=\"1\" class=\"dataframe\">\n  <thead>\n    <tr style=\"text-align: right;\">\n      <th></th>\n      <th>STATION</th>\n      <th>NAME</th>\n      <th>ACMH</th>\n      <th>ACSH</th>\n      <th>AWND</th>\n      <th>DAPR</th>\n      <th>FMTM</th>\n      <th>FRGT</th>\n      <th>MDPR</th>\n      <th>PGTM</th>\n      <th>...</th>\n      <th>WT01</th>\n      <th>WT02</th>\n      <th>WT03</th>\n      <th>WT04</th>\n      <th>WT05</th>\n      <th>WT07</th>\n      <th>WT08</th>\n      <th>WT09</th>\n      <th>WT16</th>\n      <th>WT18</th>\n    </tr>\n    <tr>\n      <th>DATE</th>\n      <th></th>\n      <th></th>\n      <th></th>\n      <th></th>\n      <th></th>\n      <th></th>\n      <th></th>\n      <th></th>\n      <th></th>\n      <th></th>\n      <th></th>\n      <th></th>\n      <th></th>\n      <th></th>\n      <th></th>\n      <th></th>\n      <th></th>\n      <th></th>\n      <th></th>\n      <th></th>\n      <th></th>\n    </tr>\n  </thead>\n  <tbody>\n    <tr>\n      <th>1960-01-01</th>\n      <td>USW00023230</td>\n      <td>OAKLAND INTERNATIONAL AIRPORT, CA US</td>\n      <td>NaN</td>\n      <td>NaN</td>\n      <td>NaN</td>\n      <td>NaN</td>\n      <td>NaN</td>\n      <td>NaN</td>\n      <td>NaN</td>\n      <td>NaN</td>\n      <td>...</td>\n      <td>NaN</td>\n      <td>NaN</td>\n      <td>NaN</td>\n      <td>NaN</td>\n      <td>NaN</td>\n      <td>NaN</td>\n      <td>NaN</td>\n      <td>NaN</td>\n      <td>NaN</td>\n      <td>NaN</td>\n    </tr>\n    <tr>\n      <th>1960-01-02</th>\n      <td>USW00023230</td>\n      <td>OAKLAND INTERNATIONAL AIRPORT, CA US</td>\n      <td>NaN</td>\n      <td>NaN</td>\n      <td>NaN</td>\n      <td>NaN</td>\n      <td>NaN</td>\n      <td>NaN</td>\n      <td>NaN</td>\n      <td>NaN</td>\n      <td>...</td>\n      <td>NaN</td>\n      <td>NaN</td>\n      <td>NaN</td>\n      <td>NaN</td>\n      <td>NaN</td>\n      <td>NaN</td>\n      <td>NaN</td>\n      <td>NaN</td>\n      <td>1.0</td>\n      <td>NaN</td>\n    </tr>\n    <tr>\n      <th>1960-01-03</th>\n      <td>USW00023230</td>\n      <td>OAKLAND INTERNATIONAL AIRPORT, CA US</td>\n      <td>NaN</td>\n      <td>NaN</td>\n      <td>NaN</td>\n      <td>NaN</td>\n      <td>NaN</td>\n      <td>NaN</td>\n      <td>NaN</td>\n      <td>NaN</td>\n      <td>...</td>\n      <td>NaN</td>\n      <td>NaN</td>\n      <td>NaN</td>\n      <td>NaN</td>\n      <td>NaN</td>\n      <td>NaN</td>\n      <td>NaN</td>\n      <td>NaN</td>\n      <td>NaN</td>\n      <td>NaN</td>\n    </tr>\n    <tr>\n      <th>1960-01-04</th>\n      <td>USW00023230</td>\n      <td>OAKLAND INTERNATIONAL AIRPORT, CA US</td>\n      <td>NaN</td>\n      <td>NaN</td>\n      <td>NaN</td>\n      <td>NaN</td>\n      <td>NaN</td>\n      <td>NaN</td>\n      <td>NaN</td>\n      <td>NaN</td>\n      <td>...</td>\n      <td>NaN</td>\n      <td>NaN</td>\n      <td>NaN</td>\n      <td>NaN</td>\n      <td>NaN</td>\n      <td>NaN</td>\n      <td>NaN</td>\n      <td>NaN</td>\n      <td>NaN</td>\n      <td>NaN</td>\n    </tr>\n    <tr>\n      <th>1960-01-05</th>\n      <td>USW00023230</td>\n      <td>OAKLAND INTERNATIONAL AIRPORT, CA US</td>\n      <td>NaN</td>\n      <td>NaN</td>\n      <td>NaN</td>\n      <td>NaN</td>\n      <td>NaN</td>\n      <td>NaN</td>\n      <td>NaN</td>\n      <td>NaN</td>\n      <td>...</td>\n      <td>1.0</td>\n      <td>NaN</td>\n      <td>NaN</td>\n      <td>NaN</td>\n      <td>NaN</td>\n      <td>NaN</td>\n      <td>1.0</td>\n      <td>NaN</td>\n      <td>NaN</td>\n      <td>NaN</td>\n    </tr>\n    <tr>\n      <th>1960-01-06</th>\n      <td>USW00023230</td>\n      <td>OAKLAND INTERNATIONAL AIRPORT, CA US</td>\n      <td>NaN</td>\n      <td>NaN</td>\n      <td>NaN</td>\n      <td>NaN</td>\n      <td>NaN</td>\n      <td>NaN</td>\n      <td>NaN</td>\n      <td>NaN</td>\n      <td>...</td>\n      <td>NaN</td>\n      <td>NaN</td>\n      <td>NaN</td>\n      <td>NaN</td>\n      <td>NaN</td>\n      <td>NaN</td>\n      <td>1.0</td>\n      <td>NaN</td>\n      <td>NaN</td>\n      <td>NaN</td>\n    </tr>\n    <tr>\n      <th>1960-01-07</th>\n      <td>USW00023230</td>\n      <td>OAKLAND INTERNATIONAL AIRPORT, CA US</td>\n      <td>NaN</td>\n      <td>NaN</td>\n      <td>NaN</td>\n      <td>NaN</td>\n      <td>NaN</td>\n      <td>NaN</td>\n      <td>NaN</td>\n      <td>NaN</td>\n      <td>...</td>\n      <td>NaN</td>\n      <td>NaN</td>\n      <td>NaN</td>\n      <td>NaN</td>\n      <td>NaN</td>\n      <td>NaN</td>\n      <td>1.0</td>\n      <td>NaN</td>\n      <td>1.0</td>\n      <td>NaN</td>\n    </tr>\n    <tr>\n      <th>1960-01-08</th>\n      <td>USW00023230</td>\n      <td>OAKLAND INTERNATIONAL AIRPORT, CA US</td>\n      <td>NaN</td>\n      <td>NaN</td>\n      <td>NaN</td>\n      <td>NaN</td>\n      <td>NaN</td>\n      <td>NaN</td>\n      <td>NaN</td>\n      <td>NaN</td>\n      <td>...</td>\n      <td>1.0</td>\n      <td>NaN</td>\n      <td>NaN</td>\n      <td>NaN</td>\n      <td>NaN</td>\n      <td>NaN</td>\n      <td>NaN</td>\n      <td>NaN</td>\n      <td>1.0</td>\n      <td>NaN</td>\n    </tr>\n    <tr>\n      <th>1960-01-09</th>\n      <td>USW00023230</td>\n      <td>OAKLAND INTERNATIONAL AIRPORT, CA US</td>\n      <td>NaN</td>\n      <td>NaN</td>\n      <td>NaN</td>\n      <td>NaN</td>\n      <td>NaN</td>\n      <td>NaN</td>\n      <td>NaN</td>\n      <td>NaN</td>\n      <td>...</td>\n      <td>1.0</td>\n      <td>NaN</td>\n      <td>NaN</td>\n      <td>NaN</td>\n      <td>NaN</td>\n      <td>NaN</td>\n      <td>NaN</td>\n      <td>NaN</td>\n      <td>1.0</td>\n      <td>NaN</td>\n    </tr>\n    <tr>\n      <th>1960-01-10</th>\n      <td>USW00023230</td>\n      <td>OAKLAND INTERNATIONAL AIRPORT, CA US</td>\n      <td>NaN</td>\n      <td>NaN</td>\n      <td>NaN</td>\n      <td>NaN</td>\n      <td>NaN</td>\n      <td>NaN</td>\n      <td>NaN</td>\n      <td>NaN</td>\n      <td>...</td>\n      <td>NaN</td>\n      <td>NaN</td>\n      <td>NaN</td>\n      <td>NaN</td>\n      <td>NaN</td>\n      <td>NaN</td>\n      <td>NaN</td>\n      <td>NaN</td>\n      <td>1.0</td>\n      <td>NaN</td>\n    </tr>\n    <tr>\n      <th>1960-01-11</th>\n      <td>USW00023230</td>\n      <td>OAKLAND INTERNATIONAL AIRPORT, CA US</td>\n      <td>NaN</td>\n      <td>NaN</td>\n      <td>NaN</td>\n      <td>NaN</td>\n      <td>NaN</td>\n      <td>NaN</td>\n      <td>NaN</td>\n      <td>NaN</td>\n      <td>...</td>\n      <td>1.0</td>\n      <td>NaN</td>\n      <td>NaN</td>\n      <td>NaN</td>\n      <td>NaN</td>\n      <td>NaN</td>\n      <td>NaN</td>\n      <td>NaN</td>\n      <td>1.0</td>\n      <td>NaN</td>\n    </tr>\n    <tr>\n      <th>1960-01-12</th>\n      <td>USW00023230</td>\n      <td>OAKLAND INTERNATIONAL AIRPORT, CA US</td>\n      <td>NaN</td>\n      <td>NaN</td>\n      <td>NaN</td>\n      <td>NaN</td>\n      <td>NaN</td>\n      <td>NaN</td>\n      <td>NaN</td>\n      <td>NaN</td>\n      <td>...</td>\n      <td>NaN</td>\n      <td>NaN</td>\n      <td>NaN</td>\n      <td>NaN</td>\n      <td>NaN</td>\n      <td>NaN</td>\n      <td>NaN</td>\n      <td>NaN</td>\n      <td>NaN</td>\n      <td>NaN</td>\n    </tr>\n    <tr>\n      <th>1960-01-13</th>\n      <td>USW00023230</td>\n      <td>OAKLAND INTERNATIONAL AIRPORT, CA US</td>\n      <td>NaN</td>\n      <td>NaN</td>\n      <td>NaN</td>\n      <td>NaN</td>\n      <td>NaN</td>\n      <td>NaN</td>\n      <td>NaN</td>\n      <td>NaN</td>\n      <td>...</td>\n      <td>NaN</td>\n      <td>NaN</td>\n      <td>NaN</td>\n      <td>NaN</td>\n      <td>NaN</td>\n      <td>NaN</td>\n      <td>NaN</td>\n      <td>NaN</td>\n      <td>1.0</td>\n      <td>NaN</td>\n    </tr>\n    <tr>\n      <th>1960-01-14</th>\n      <td>USW00023230</td>\n      <td>OAKLAND INTERNATIONAL AIRPORT, CA US</td>\n      <td>NaN</td>\n      <td>NaN</td>\n      <td>NaN</td>\n      <td>NaN</td>\n      <td>NaN</td>\n      <td>NaN</td>\n      <td>NaN</td>\n      <td>NaN</td>\n      <td>...</td>\n      <td>NaN</td>\n      <td>NaN</td>\n      <td>NaN</td>\n      <td>NaN</td>\n      <td>NaN</td>\n      <td>NaN</td>\n      <td>NaN</td>\n      <td>NaN</td>\n      <td>1.0</td>\n      <td>NaN</td>\n    </tr>\n    <tr>\n      <th>1960-01-15</th>\n      <td>USW00023230</td>\n      <td>OAKLAND INTERNATIONAL AIRPORT, CA US</td>\n      <td>NaN</td>\n      <td>NaN</td>\n      <td>NaN</td>\n      <td>NaN</td>\n      <td>NaN</td>\n      <td>NaN</td>\n      <td>NaN</td>\n      <td>NaN</td>\n      <td>...</td>\n      <td>NaN</td>\n      <td>NaN</td>\n      <td>NaN</td>\n      <td>NaN</td>\n      <td>NaN</td>\n      <td>NaN</td>\n      <td>NaN</td>\n      <td>NaN</td>\n      <td>NaN</td>\n      <td>NaN</td>\n    </tr>\n    <tr>\n      <th>1960-01-16</th>\n      <td>USW00023230</td>\n      <td>OAKLAND INTERNATIONAL AIRPORT, CA US</td>\n      <td>NaN</td>\n      <td>NaN</td>\n      <td>NaN</td>\n      <td>NaN</td>\n      <td>NaN</td>\n      <td>NaN</td>\n      <td>NaN</td>\n      <td>NaN</td>\n      <td>...</td>\n      <td>NaN</td>\n      <td>NaN</td>\n      <td>NaN</td>\n      <td>NaN</td>\n      <td>NaN</td>\n      <td>NaN</td>\n      <td>NaN</td>\n      <td>NaN</td>\n      <td>NaN</td>\n      <td>NaN</td>\n    </tr>\n    <tr>\n      <th>1960-01-17</th>\n      <td>USW00023230</td>\n      <td>OAKLAND INTERNATIONAL AIRPORT, CA US</td>\n      <td>NaN</td>\n      <td>NaN</td>\n      <td>NaN</td>\n      <td>NaN</td>\n      <td>NaN</td>\n      <td>NaN</td>\n      <td>NaN</td>\n      <td>NaN</td>\n      <td>...</td>\n      <td>NaN</td>\n      <td>NaN</td>\n      <td>NaN</td>\n      <td>NaN</td>\n      <td>NaN</td>\n      <td>NaN</td>\n      <td>1.0</td>\n      <td>NaN</td>\n      <td>NaN</td>\n      <td>NaN</td>\n    </tr>\n    <tr>\n      <th>1960-01-18</th>\n      <td>USW00023230</td>\n      <td>OAKLAND INTERNATIONAL AIRPORT, CA US</td>\n      <td>NaN</td>\n      <td>NaN</td>\n      <td>NaN</td>\n      <td>NaN</td>\n      <td>NaN</td>\n      <td>NaN</td>\n      <td>NaN</td>\n      <td>NaN</td>\n      <td>...</td>\n      <td>NaN</td>\n      <td>NaN</td>\n      <td>NaN</td>\n      <td>NaN</td>\n      <td>NaN</td>\n      <td>NaN</td>\n      <td>1.0</td>\n      <td>NaN</td>\n      <td>1.0</td>\n      <td>NaN</td>\n    </tr>\n    <tr>\n      <th>1960-01-19</th>\n      <td>USW00023230</td>\n      <td>OAKLAND INTERNATIONAL AIRPORT, CA US</td>\n      <td>NaN</td>\n      <td>NaN</td>\n      <td>NaN</td>\n      <td>NaN</td>\n      <td>NaN</td>\n      <td>NaN</td>\n      <td>NaN</td>\n      <td>NaN</td>\n      <td>...</td>\n      <td>1.0</td>\n      <td>NaN</td>\n      <td>NaN</td>\n      <td>NaN</td>\n      <td>NaN</td>\n      <td>NaN</td>\n      <td>1.0</td>\n      <td>NaN</td>\n      <td>NaN</td>\n      <td>NaN</td>\n    </tr>\n    <tr>\n      <th>1960-01-20</th>\n      <td>USW00023230</td>\n      <td>OAKLAND INTERNATIONAL AIRPORT, CA US</td>\n      <td>NaN</td>\n      <td>NaN</td>\n      <td>NaN</td>\n      <td>NaN</td>\n      <td>NaN</td>\n      <td>NaN</td>\n      <td>NaN</td>\n      <td>NaN</td>\n      <td>...</td>\n      <td>NaN</td>\n      <td>NaN</td>\n      <td>NaN</td>\n      <td>NaN</td>\n      <td>NaN</td>\n      <td>NaN</td>\n      <td>NaN</td>\n      <td>NaN</td>\n      <td>NaN</td>\n      <td>NaN</td>\n    </tr>\n    <tr>\n      <th>1960-01-21</th>\n      <td>USW00023230</td>\n      <td>OAKLAND INTERNATIONAL AIRPORT, CA US</td>\n      <td>NaN</td>\n      <td>NaN</td>\n      <td>NaN</td>\n      <td>NaN</td>\n      <td>NaN</td>\n      <td>NaN</td>\n      <td>NaN</td>\n      <td>NaN</td>\n      <td>...</td>\n      <td>NaN</td>\n      <td>NaN</td>\n      <td>NaN</td>\n      <td>NaN</td>\n      <td>NaN</td>\n      <td>NaN</td>\n      <td>NaN</td>\n      <td>NaN</td>\n      <td>1.0</td>\n      <td>NaN</td>\n    </tr>\n    <tr>\n      <th>1960-01-22</th>\n      <td>USW00023230</td>\n      <td>OAKLAND INTERNATIONAL AIRPORT, CA US</td>\n      <td>NaN</td>\n      <td>NaN</td>\n      <td>NaN</td>\n      <td>NaN</td>\n      <td>NaN</td>\n      <td>NaN</td>\n      <td>NaN</td>\n      <td>NaN</td>\n      <td>...</td>\n      <td>NaN</td>\n      <td>NaN</td>\n      <td>NaN</td>\n      <td>NaN</td>\n      <td>NaN</td>\n      <td>NaN</td>\n      <td>NaN</td>\n      <td>NaN</td>\n      <td>1.0</td>\n      <td>NaN</td>\n    </tr>\n    <tr>\n      <th>1960-01-23</th>\n      <td>USW00023230</td>\n      <td>OAKLAND INTERNATIONAL AIRPORT, CA US</td>\n      <td>NaN</td>\n      <td>NaN</td>\n      <td>NaN</td>\n      <td>NaN</td>\n      <td>NaN</td>\n      <td>NaN</td>\n      <td>NaN</td>\n      <td>NaN</td>\n      <td>...</td>\n      <td>1.0</td>\n      <td>NaN</td>\n      <td>NaN</td>\n      <td>NaN</td>\n      <td>NaN</td>\n      <td>NaN</td>\n      <td>1.0</td>\n      <td>NaN</td>\n      <td>NaN</td>\n      <td>NaN</td>\n    </tr>\n    <tr>\n      <th>1960-01-24</th>\n      <td>USW00023230</td>\n      <td>OAKLAND INTERNATIONAL AIRPORT, CA US</td>\n      <td>NaN</td>\n      <td>NaN</td>\n      <td>NaN</td>\n      <td>NaN</td>\n      <td>NaN</td>\n      <td>NaN</td>\n      <td>NaN</td>\n      <td>NaN</td>\n      <td>...</td>\n      <td>1.0</td>\n      <td>NaN</td>\n      <td>NaN</td>\n      <td>NaN</td>\n      <td>NaN</td>\n      <td>NaN</td>\n      <td>1.0</td>\n      <td>NaN</td>\n      <td>1.0</td>\n      <td>NaN</td>\n    </tr>\n    <tr>\n      <th>1960-01-25</th>\n      <td>USW00023230</td>\n      <td>OAKLAND INTERNATIONAL AIRPORT, CA US</td>\n      <td>NaN</td>\n      <td>NaN</td>\n      <td>NaN</td>\n      <td>NaN</td>\n      <td>NaN</td>\n      <td>NaN</td>\n      <td>NaN</td>\n      <td>NaN</td>\n      <td>...</td>\n      <td>1.0</td>\n      <td>NaN</td>\n      <td>NaN</td>\n      <td>NaN</td>\n      <td>NaN</td>\n      <td>NaN</td>\n      <td>NaN</td>\n      <td>NaN</td>\n      <td>1.0</td>\n      <td>NaN</td>\n    </tr>\n    <tr>\n      <th>1960-01-26</th>\n      <td>USW00023230</td>\n      <td>OAKLAND INTERNATIONAL AIRPORT, CA US</td>\n      <td>NaN</td>\n      <td>NaN</td>\n      <td>NaN</td>\n      <td>NaN</td>\n      <td>NaN</td>\n      <td>NaN</td>\n      <td>NaN</td>\n      <td>NaN</td>\n      <td>...</td>\n      <td>1.0</td>\n      <td>NaN</td>\n      <td>NaN</td>\n      <td>NaN</td>\n      <td>NaN</td>\n      <td>NaN</td>\n      <td>NaN</td>\n      <td>NaN</td>\n      <td>1.0</td>\n      <td>NaN</td>\n    </tr>\n    <tr>\n      <th>1960-01-27</th>\n      <td>USW00023230</td>\n      <td>OAKLAND INTERNATIONAL AIRPORT, CA US</td>\n      <td>NaN</td>\n      <td>NaN</td>\n      <td>NaN</td>\n      <td>NaN</td>\n      <td>NaN</td>\n      <td>NaN</td>\n      <td>NaN</td>\n      <td>NaN</td>\n      <td>...</td>\n      <td>NaN</td>\n      <td>NaN</td>\n      <td>NaN</td>\n      <td>NaN</td>\n      <td>NaN</td>\n      <td>NaN</td>\n      <td>NaN</td>\n      <td>NaN</td>\n      <td>NaN</td>\n      <td>NaN</td>\n    </tr>\n    <tr>\n      <th>1960-01-28</th>\n      <td>USW00023230</td>\n      <td>OAKLAND INTERNATIONAL AIRPORT, CA US</td>\n      <td>NaN</td>\n      <td>NaN</td>\n      <td>NaN</td>\n      <td>NaN</td>\n      <td>NaN</td>\n      <td>NaN</td>\n      <td>NaN</td>\n      <td>NaN</td>\n      <td>...</td>\n      <td>NaN</td>\n      <td>NaN</td>\n      <td>NaN</td>\n      <td>NaN</td>\n      <td>NaN</td>\n      <td>NaN</td>\n      <td>1.0</td>\n      <td>NaN</td>\n      <td>NaN</td>\n      <td>NaN</td>\n    </tr>\n    <tr>\n      <th>1960-01-29</th>\n      <td>USW00023230</td>\n      <td>OAKLAND INTERNATIONAL AIRPORT, CA US</td>\n      <td>NaN</td>\n      <td>NaN</td>\n      <td>NaN</td>\n      <td>NaN</td>\n      <td>NaN</td>\n      <td>NaN</td>\n      <td>NaN</td>\n      <td>NaN</td>\n      <td>...</td>\n      <td>NaN</td>\n      <td>NaN</td>\n      <td>NaN</td>\n      <td>NaN</td>\n      <td>NaN</td>\n      <td>NaN</td>\n      <td>1.0</td>\n      <td>NaN</td>\n      <td>1.0</td>\n      <td>NaN</td>\n    </tr>\n    <tr>\n      <th>1960-01-30</th>\n      <td>USW00023230</td>\n      <td>OAKLAND INTERNATIONAL AIRPORT, CA US</td>\n      <td>NaN</td>\n      <td>NaN</td>\n      <td>NaN</td>\n      <td>NaN</td>\n      <td>NaN</td>\n      <td>NaN</td>\n      <td>NaN</td>\n      <td>NaN</td>\n      <td>...</td>\n      <td>1.0</td>\n      <td>NaN</td>\n      <td>NaN</td>\n      <td>NaN</td>\n      <td>NaN</td>\n      <td>NaN</td>\n      <td>1.0</td>\n      <td>NaN</td>\n      <td>1.0</td>\n      <td>NaN</td>\n    </tr>\n    <tr>\n      <th>1960-01-31</th>\n      <td>USW00023230</td>\n      <td>OAKLAND INTERNATIONAL AIRPORT, CA US</td>\n      <td>NaN</td>\n      <td>NaN</td>\n      <td>NaN</td>\n      <td>NaN</td>\n      <td>NaN</td>\n      <td>NaN</td>\n      <td>NaN</td>\n      <td>NaN</td>\n      <td>...</td>\n      <td>1.0</td>\n      <td>NaN</td>\n      <td>NaN</td>\n      <td>NaN</td>\n      <td>NaN</td>\n      <td>NaN</td>\n      <td>1.0</td>\n      <td>NaN</td>\n      <td>1.0</td>\n      <td>NaN</td>\n    </tr>\n  </tbody>\n</table>\n<p>31 rows × 35 columns</p>\n</div>"
     },
     "execution_count": 6,
     "metadata": {},
     "output_type": "execute_result"
    }
   ],
   "source": [
    "df.loc['1960-01-01':'1960-01-31',:]"
   ],
   "metadata": {
    "collapsed": false,
    "ExecuteTime": {
     "end_time": "2024-03-14T13:41:50.259200100Z",
     "start_time": "2024-03-14T13:41:50.158308600Z"
    }
   },
   "id": "d2a42565442f3eda",
   "execution_count": 6
  },
  {
   "cell_type": "code",
   "outputs": [
    {
     "data": {
      "text/plain": "(16859, 35)"
     },
     "execution_count": 9,
     "metadata": {},
     "output_type": "execute_result"
    }
   ],
   "source": [
    "df.shape"
   ],
   "metadata": {
    "collapsed": false,
    "ExecuteTime": {
     "end_time": "2024-03-14T13:43:30.911176500Z",
     "start_time": "2024-03-14T13:43:30.865093600Z"
    }
   },
   "id": "718068cf552d6f59",
   "execution_count": 9
  },
  {
   "cell_type": "code",
   "outputs": [
    {
     "data": {
      "text/plain": "STATION        0\nNAME           0\nACMH       11015\nACSH       11015\nAWND        8808\nDAPR       16851\nFMTM       14669\nFRGT       16857\nMDPR       16851\nPGTM        8347\nPRCP         281\nSNOW        5479\nSNWD        5355\nTAVG       14822\nTMAX           9\nTMIN          10\nTSUN       15708\nWDF1       11015\nWDF2        8807\nWDF5        8894\nWDFG       12592\nWSF1       11015\nWSF2        8806\nWSF5        8894\nWSFG       12592\nWT01       13149\nWT02       16526\nWT03       16740\nWT04       16855\nWT05       16831\nWT07       16857\nWT08       13662\nWT09       16857\nWT16       14904\nWT18       16856\ndtype: int64"
     },
     "execution_count": 8,
     "metadata": {},
     "output_type": "execute_result"
    }
   ],
   "source": [
    "df.isnull().sum()"
   ],
   "metadata": {
    "collapsed": false,
    "ExecuteTime": {
     "end_time": "2024-03-14T13:43:02.315946300Z",
     "start_time": "2024-03-14T13:43:02.238948Z"
    }
   },
   "id": "c74d3ce48bfafc5a",
   "execution_count": 8
  },
  {
   "cell_type": "code",
   "outputs": [
    {
     "data": {
      "text/plain": "STATION     0.000000\nNAME        0.000000\nACMH       65.336022\nACSH       65.336022\nAWND       52.245092\nDAPR       99.952548\nFMTM       87.009906\nFRGT       99.988137\nMDPR       99.952548\nPGTM       49.510647\nPRCP        1.666766\nSNOW       32.498962\nSNWD       31.763450\nTAVG       87.917433\nTMAX        0.053384\nTMIN        0.059315\nTSUN       93.172786\nWDF1       65.336022\nWDF2       52.239160\nWDF5       52.755205\nWDFG       74.690077\nWSF1       65.336022\nWSF2       52.233229\nWSF5       52.755205\nWSFG       74.690077\nWT01       77.993950\nWT02       98.024794\nWT03       99.294146\nWT04       99.976274\nWT05       99.833917\nWT07       99.988137\nWT08       81.036835\nWT09       99.988137\nWT16       88.403820\nWT18       99.982205\ndtype: float64"
     },
     "execution_count": 11,
     "metadata": {},
     "output_type": "execute_result"
    }
   ],
   "source": [
    "(df.isnull().sum()/df.shape[0])*100  #this gives percentage of null value"
   ],
   "metadata": {
    "collapsed": false,
    "ExecuteTime": {
     "end_time": "2024-03-14T13:45:49.381446700Z",
     "start_time": "2024-03-14T13:45:49.317925300Z"
    }
   },
   "id": "580436886a4c862a",
   "execution_count": 11
  },
  {
   "cell_type": "code",
   "outputs": [],
   "source": [
    "core_weather = df[[\"PRCP\",\"SNOW\",\"SNWD\",\"TMAX\",\"TMIN\"]].copy()"
   ],
   "metadata": {
    "collapsed": false,
    "ExecuteTime": {
     "end_time": "2024-03-14T14:05:14.394244700Z",
     "start_time": "2024-03-14T14:05:14.382222500Z"
    }
   },
   "id": "f8574ce69cc982a3",
   "execution_count": 12
  },
  {
   "cell_type": "code",
   "outputs": [],
   "source": [
    "core_weather.columns=[\"precip\",\"snow\",\"snow_depth\",\"temp_max\",\"temp_min\"]"
   ],
   "metadata": {
    "collapsed": false,
    "ExecuteTime": {
     "end_time": "2024-03-14T14:07:53.506566300Z",
     "start_time": "2024-03-14T14:07:53.497674800Z"
    }
   },
   "id": "a8d4eb47a44ef9bc",
   "execution_count": 14
  },
  {
   "cell_type": "code",
   "outputs": [
    {
     "data": {
      "text/plain": "            precip  snow  snow_depth  temp_max  temp_min\nDATE                                                    \n1960-01-01     0.0   0.0         0.0      49.0      30.0\n1960-01-02     0.0   0.0         0.0      49.0      29.0\n1960-01-03     0.0   0.0         0.0      54.0      35.0\n1960-01-04     0.0   0.0         0.0      54.0      36.0\n1960-01-05     0.0   0.0         0.0      55.0      33.0\n...            ...   ...         ...       ...       ...\n2022-01-24     0.0   NaN         NaN      60.0      39.0\n2022-01-25     0.0   NaN         NaN      57.0      43.0\n2022-01-26     0.0   NaN         NaN      57.0      41.0\n2022-01-27     0.0   NaN         NaN      67.0      39.0\n2022-01-28     0.0   NaN         NaN      64.0      39.0\n\n[16859 rows x 5 columns]",
      "text/html": "<div>\n<style scoped>\n    .dataframe tbody tr th:only-of-type {\n        vertical-align: middle;\n    }\n\n    .dataframe tbody tr th {\n        vertical-align: top;\n    }\n\n    .dataframe thead th {\n        text-align: right;\n    }\n</style>\n<table border=\"1\" class=\"dataframe\">\n  <thead>\n    <tr style=\"text-align: right;\">\n      <th></th>\n      <th>precip</th>\n      <th>snow</th>\n      <th>snow_depth</th>\n      <th>temp_max</th>\n      <th>temp_min</th>\n    </tr>\n    <tr>\n      <th>DATE</th>\n      <th></th>\n      <th></th>\n      <th></th>\n      <th></th>\n      <th></th>\n    </tr>\n  </thead>\n  <tbody>\n    <tr>\n      <th>1960-01-01</th>\n      <td>0.0</td>\n      <td>0.0</td>\n      <td>0.0</td>\n      <td>49.0</td>\n      <td>30.0</td>\n    </tr>\n    <tr>\n      <th>1960-01-02</th>\n      <td>0.0</td>\n      <td>0.0</td>\n      <td>0.0</td>\n      <td>49.0</td>\n      <td>29.0</td>\n    </tr>\n    <tr>\n      <th>1960-01-03</th>\n      <td>0.0</td>\n      <td>0.0</td>\n      <td>0.0</td>\n      <td>54.0</td>\n      <td>35.0</td>\n    </tr>\n    <tr>\n      <th>1960-01-04</th>\n      <td>0.0</td>\n      <td>0.0</td>\n      <td>0.0</td>\n      <td>54.0</td>\n      <td>36.0</td>\n    </tr>\n    <tr>\n      <th>1960-01-05</th>\n      <td>0.0</td>\n      <td>0.0</td>\n      <td>0.0</td>\n      <td>55.0</td>\n      <td>33.0</td>\n    </tr>\n    <tr>\n      <th>...</th>\n      <td>...</td>\n      <td>...</td>\n      <td>...</td>\n      <td>...</td>\n      <td>...</td>\n    </tr>\n    <tr>\n      <th>2022-01-24</th>\n      <td>0.0</td>\n      <td>NaN</td>\n      <td>NaN</td>\n      <td>60.0</td>\n      <td>39.0</td>\n    </tr>\n    <tr>\n      <th>2022-01-25</th>\n      <td>0.0</td>\n      <td>NaN</td>\n      <td>NaN</td>\n      <td>57.0</td>\n      <td>43.0</td>\n    </tr>\n    <tr>\n      <th>2022-01-26</th>\n      <td>0.0</td>\n      <td>NaN</td>\n      <td>NaN</td>\n      <td>57.0</td>\n      <td>41.0</td>\n    </tr>\n    <tr>\n      <th>2022-01-27</th>\n      <td>0.0</td>\n      <td>NaN</td>\n      <td>NaN</td>\n      <td>67.0</td>\n      <td>39.0</td>\n    </tr>\n    <tr>\n      <th>2022-01-28</th>\n      <td>0.0</td>\n      <td>NaN</td>\n      <td>NaN</td>\n      <td>64.0</td>\n      <td>39.0</td>\n    </tr>\n  </tbody>\n</table>\n<p>16859 rows × 5 columns</p>\n</div>"
     },
     "execution_count": 15,
     "metadata": {},
     "output_type": "execute_result"
    }
   ],
   "source": [
    "core_weather"
   ],
   "metadata": {
    "collapsed": false,
    "ExecuteTime": {
     "end_time": "2024-03-14T14:08:03.323193600Z",
     "start_time": "2024-03-14T14:08:03.319185800Z"
    }
   },
   "id": "c18f89a7bf43391f",
   "execution_count": 15
  },
  {
   "cell_type": "markdown",
   "source": [
    "## Handling Missing Values"
   ],
   "metadata": {
    "collapsed": false
   },
   "id": "77d3ba05dd0ee96b"
  },
  {
   "cell_type": "code",
   "outputs": [
    {
     "data": {
      "text/plain": "precip         281\nsnow          5479\nsnow_depth    5355\ntemp_max         9\ntemp_min        10\ndtype: int64"
     },
     "execution_count": 16,
     "metadata": {},
     "output_type": "execute_result"
    }
   ],
   "source": [
    "core_weather.isnull().sum()"
   ],
   "metadata": {
    "collapsed": false,
    "ExecuteTime": {
     "end_time": "2024-03-14T14:08:41.046502600Z",
     "start_time": "2024-03-14T14:08:41.021944800Z"
    }
   },
   "id": "8655ce752a3576d6",
   "execution_count": 16
  },
  {
   "cell_type": "code",
   "outputs": [
    {
     "data": {
      "text/plain": "snow\n0.0    11379\n1.0        1\nName: count, dtype: int64"
     },
     "execution_count": 17,
     "metadata": {},
     "output_type": "execute_result"
    }
   ],
   "source": [
    "core_weather['snow'].value_counts()"
   ],
   "metadata": {
    "collapsed": false,
    "ExecuteTime": {
     "end_time": "2024-03-14T14:10:33.122185200Z",
     "start_time": "2024-03-14T14:10:33.106517400Z"
    }
   },
   "id": "de7bb6bbe2688b8c",
   "execution_count": 17
  },
  {
   "cell_type": "markdown",
   "source": [
    "As you can see the is only one day it snowed. with this our ml mmodel doesn't perform well on future data"
   ],
   "metadata": {
    "collapsed": false
   },
   "id": "98db317ce166a07c"
  },
  {
   "cell_type": "code",
   "outputs": [],
   "source": [
    "del core_weather['snow']"
   ],
   "metadata": {
    "collapsed": false,
    "ExecuteTime": {
     "end_time": "2024-03-14T14:10:53.375071400Z",
     "start_time": "2024-03-14T14:10:53.361233400Z"
    }
   },
   "id": "488d5b439a50b3ae",
   "execution_count": 18
  },
  {
   "cell_type": "code",
   "outputs": [
    {
     "data": {
      "text/plain": "snow_depth\n0.0    11504\nName: count, dtype: int64"
     },
     "execution_count": 19,
     "metadata": {},
     "output_type": "execute_result"
    }
   ],
   "source": [
    "core_weather['snow_depth'].value_counts()"
   ],
   "metadata": {
    "collapsed": false,
    "ExecuteTime": {
     "end_time": "2024-03-14T14:11:04.298268Z",
     "start_time": "2024-03-14T14:11:04.284391800Z"
    }
   },
   "id": "fc1f3cdcaa34b282",
   "execution_count": 19
  },
  {
   "cell_type": "markdown",
   "source": [
    "same since there is no value of snow, it useless to keep the snow_depth value"
   ],
   "metadata": {
    "collapsed": false
   },
   "id": "f7863880c5b68b62"
  },
  {
   "cell_type": "code",
   "outputs": [],
   "source": [
    "del core_weather['snow_depth']"
   ],
   "metadata": {
    "collapsed": false,
    "ExecuteTime": {
     "end_time": "2024-03-14T14:11:10.505193300Z",
     "start_time": "2024-03-14T14:11:10.484117800Z"
    }
   },
   "id": "98f7dc7b94b70a55",
   "execution_count": 20
  },
  {
   "cell_type": "code",
   "outputs": [
    {
     "data": {
      "text/plain": "            precip  temp_max  temp_min\nDATE                                  \n1983-10-29     NaN      67.0      57.0\n1983-10-30     NaN      70.0      63.0\n1983-10-31     NaN      69.0      61.0\n1983-11-12     NaN      63.0      55.0\n1983-11-13     NaN      60.0      50.0\n...            ...       ...       ...\n2013-12-15     NaN      58.0      33.0\n2016-05-01     NaN      80.0      55.0\n2016-05-02     NaN      68.0      53.0\n2016-05-08     NaN      67.0      56.0\n2017-10-28     NaN      68.0      50.0\n\n[281 rows x 3 columns]",
      "text/html": "<div>\n<style scoped>\n    .dataframe tbody tr th:only-of-type {\n        vertical-align: middle;\n    }\n\n    .dataframe tbody tr th {\n        vertical-align: top;\n    }\n\n    .dataframe thead th {\n        text-align: right;\n    }\n</style>\n<table border=\"1\" class=\"dataframe\">\n  <thead>\n    <tr style=\"text-align: right;\">\n      <th></th>\n      <th>precip</th>\n      <th>temp_max</th>\n      <th>temp_min</th>\n    </tr>\n    <tr>\n      <th>DATE</th>\n      <th></th>\n      <th></th>\n      <th></th>\n    </tr>\n  </thead>\n  <tbody>\n    <tr>\n      <th>1983-10-29</th>\n      <td>NaN</td>\n      <td>67.0</td>\n      <td>57.0</td>\n    </tr>\n    <tr>\n      <th>1983-10-30</th>\n      <td>NaN</td>\n      <td>70.0</td>\n      <td>63.0</td>\n    </tr>\n    <tr>\n      <th>1983-10-31</th>\n      <td>NaN</td>\n      <td>69.0</td>\n      <td>61.0</td>\n    </tr>\n    <tr>\n      <th>1983-11-12</th>\n      <td>NaN</td>\n      <td>63.0</td>\n      <td>55.0</td>\n    </tr>\n    <tr>\n      <th>1983-11-13</th>\n      <td>NaN</td>\n      <td>60.0</td>\n      <td>50.0</td>\n    </tr>\n    <tr>\n      <th>...</th>\n      <td>...</td>\n      <td>...</td>\n      <td>...</td>\n    </tr>\n    <tr>\n      <th>2013-12-15</th>\n      <td>NaN</td>\n      <td>58.0</td>\n      <td>33.0</td>\n    </tr>\n    <tr>\n      <th>2016-05-01</th>\n      <td>NaN</td>\n      <td>80.0</td>\n      <td>55.0</td>\n    </tr>\n    <tr>\n      <th>2016-05-02</th>\n      <td>NaN</td>\n      <td>68.0</td>\n      <td>53.0</td>\n    </tr>\n    <tr>\n      <th>2016-05-08</th>\n      <td>NaN</td>\n      <td>67.0</td>\n      <td>56.0</td>\n    </tr>\n    <tr>\n      <th>2017-10-28</th>\n      <td>NaN</td>\n      <td>68.0</td>\n      <td>50.0</td>\n    </tr>\n  </tbody>\n</table>\n<p>281 rows × 3 columns</p>\n</div>"
     },
     "execution_count": 23,
     "metadata": {},
     "output_type": "execute_result"
    }
   ],
   "source": [
    "core_weather[pd.isnull(core_weather['precip'])]"
   ],
   "metadata": {
    "collapsed": false,
    "ExecuteTime": {
     "end_time": "2024-03-14T14:16:33.588779Z",
     "start_time": "2024-03-14T14:16:33.581267400Z"
    }
   },
   "id": "9e7082399f95e96",
   "execution_count": 23
  },
  {
   "cell_type": "code",
   "outputs": [
    {
     "data": {
      "text/plain": "            precip  temp_max  temp_min\nDATE                                  \n1983-10-20    0.00      73.0      52.0\n1983-10-21    0.00      70.0      50.0\n1983-10-22    0.00      70.0      50.0\n1983-10-23    0.00      69.0      60.0\n1983-10-24    0.00      73.0      58.0\n1983-10-25    0.00      75.0      53.0\n1983-10-26    0.00      79.0      53.0\n1983-10-27    0.00      82.0      56.0\n1983-10-28    0.00      74.0      56.0\n1983-10-29     NaN      67.0      57.0\n1983-10-30     NaN      70.0      63.0\n1983-10-31     NaN      69.0      61.0\n1983-11-01    0.26      69.0      60.0\n1983-11-02    0.06      68.0      56.0\n1983-11-03    0.00      68.0      56.0\n1983-11-04    0.00      67.0      55.0\n1983-11-05    0.00      66.0      51.0\n1983-11-06    0.00      69.0      53.0\n1983-11-07    0.00      63.0      50.0\n1983-11-08    0.00      61.0      46.0\n1983-11-09    0.05      60.0      52.0\n1983-11-10    0.24      62.0      60.0\n1983-11-11    1.06      67.0      55.0\n1983-11-12     NaN      63.0      55.0\n1983-11-13     NaN      60.0      50.0\n1983-11-14     NaN      61.0      45.0\n1983-11-15    0.00      60.0      45.0\n1983-11-16    0.30      61.0      56.0\n1983-11-17    0.98      62.0      55.0\n1983-11-18    0.22      62.0      50.0\n1983-11-19     NaN      61.0      53.0\n1983-11-20     NaN      58.0      46.0\n1983-11-21     NaN      59.0      41.0\n1983-11-22    0.00      51.0      43.0\n1983-11-23    0.11      55.0      48.0\n1983-11-24    0.36      58.0      48.0\n1983-11-25    0.70      58.0      43.0\n1983-11-26    0.00      63.0      46.0\n1983-11-27    0.00      58.0      43.0\n1983-11-28    0.00      58.0      44.0\n1983-11-29    0.00      55.0      44.0\n1983-11-30    0.02      58.0      50.0",
      "text/html": "<div>\n<style scoped>\n    .dataframe tbody tr th:only-of-type {\n        vertical-align: middle;\n    }\n\n    .dataframe tbody tr th {\n        vertical-align: top;\n    }\n\n    .dataframe thead th {\n        text-align: right;\n    }\n</style>\n<table border=\"1\" class=\"dataframe\">\n  <thead>\n    <tr style=\"text-align: right;\">\n      <th></th>\n      <th>precip</th>\n      <th>temp_max</th>\n      <th>temp_min</th>\n    </tr>\n    <tr>\n      <th>DATE</th>\n      <th></th>\n      <th></th>\n      <th></th>\n    </tr>\n  </thead>\n  <tbody>\n    <tr>\n      <th>1983-10-20</th>\n      <td>0.00</td>\n      <td>73.0</td>\n      <td>52.0</td>\n    </tr>\n    <tr>\n      <th>1983-10-21</th>\n      <td>0.00</td>\n      <td>70.0</td>\n      <td>50.0</td>\n    </tr>\n    <tr>\n      <th>1983-10-22</th>\n      <td>0.00</td>\n      <td>70.0</td>\n      <td>50.0</td>\n    </tr>\n    <tr>\n      <th>1983-10-23</th>\n      <td>0.00</td>\n      <td>69.0</td>\n      <td>60.0</td>\n    </tr>\n    <tr>\n      <th>1983-10-24</th>\n      <td>0.00</td>\n      <td>73.0</td>\n      <td>58.0</td>\n    </tr>\n    <tr>\n      <th>1983-10-25</th>\n      <td>0.00</td>\n      <td>75.0</td>\n      <td>53.0</td>\n    </tr>\n    <tr>\n      <th>1983-10-26</th>\n      <td>0.00</td>\n      <td>79.0</td>\n      <td>53.0</td>\n    </tr>\n    <tr>\n      <th>1983-10-27</th>\n      <td>0.00</td>\n      <td>82.0</td>\n      <td>56.0</td>\n    </tr>\n    <tr>\n      <th>1983-10-28</th>\n      <td>0.00</td>\n      <td>74.0</td>\n      <td>56.0</td>\n    </tr>\n    <tr>\n      <th>1983-10-29</th>\n      <td>NaN</td>\n      <td>67.0</td>\n      <td>57.0</td>\n    </tr>\n    <tr>\n      <th>1983-10-30</th>\n      <td>NaN</td>\n      <td>70.0</td>\n      <td>63.0</td>\n    </tr>\n    <tr>\n      <th>1983-10-31</th>\n      <td>NaN</td>\n      <td>69.0</td>\n      <td>61.0</td>\n    </tr>\n    <tr>\n      <th>1983-11-01</th>\n      <td>0.26</td>\n      <td>69.0</td>\n      <td>60.0</td>\n    </tr>\n    <tr>\n      <th>1983-11-02</th>\n      <td>0.06</td>\n      <td>68.0</td>\n      <td>56.0</td>\n    </tr>\n    <tr>\n      <th>1983-11-03</th>\n      <td>0.00</td>\n      <td>68.0</td>\n      <td>56.0</td>\n    </tr>\n    <tr>\n      <th>1983-11-04</th>\n      <td>0.00</td>\n      <td>67.0</td>\n      <td>55.0</td>\n    </tr>\n    <tr>\n      <th>1983-11-05</th>\n      <td>0.00</td>\n      <td>66.0</td>\n      <td>51.0</td>\n    </tr>\n    <tr>\n      <th>1983-11-06</th>\n      <td>0.00</td>\n      <td>69.0</td>\n      <td>53.0</td>\n    </tr>\n    <tr>\n      <th>1983-11-07</th>\n      <td>0.00</td>\n      <td>63.0</td>\n      <td>50.0</td>\n    </tr>\n    <tr>\n      <th>1983-11-08</th>\n      <td>0.00</td>\n      <td>61.0</td>\n      <td>46.0</td>\n    </tr>\n    <tr>\n      <th>1983-11-09</th>\n      <td>0.05</td>\n      <td>60.0</td>\n      <td>52.0</td>\n    </tr>\n    <tr>\n      <th>1983-11-10</th>\n      <td>0.24</td>\n      <td>62.0</td>\n      <td>60.0</td>\n    </tr>\n    <tr>\n      <th>1983-11-11</th>\n      <td>1.06</td>\n      <td>67.0</td>\n      <td>55.0</td>\n    </tr>\n    <tr>\n      <th>1983-11-12</th>\n      <td>NaN</td>\n      <td>63.0</td>\n      <td>55.0</td>\n    </tr>\n    <tr>\n      <th>1983-11-13</th>\n      <td>NaN</td>\n      <td>60.0</td>\n      <td>50.0</td>\n    </tr>\n    <tr>\n      <th>1983-11-14</th>\n      <td>NaN</td>\n      <td>61.0</td>\n      <td>45.0</td>\n    </tr>\n    <tr>\n      <th>1983-11-15</th>\n      <td>0.00</td>\n      <td>60.0</td>\n      <td>45.0</td>\n    </tr>\n    <tr>\n      <th>1983-11-16</th>\n      <td>0.30</td>\n      <td>61.0</td>\n      <td>56.0</td>\n    </tr>\n    <tr>\n      <th>1983-11-17</th>\n      <td>0.98</td>\n      <td>62.0</td>\n      <td>55.0</td>\n    </tr>\n    <tr>\n      <th>1983-11-18</th>\n      <td>0.22</td>\n      <td>62.0</td>\n      <td>50.0</td>\n    </tr>\n    <tr>\n      <th>1983-11-19</th>\n      <td>NaN</td>\n      <td>61.0</td>\n      <td>53.0</td>\n    </tr>\n    <tr>\n      <th>1983-11-20</th>\n      <td>NaN</td>\n      <td>58.0</td>\n      <td>46.0</td>\n    </tr>\n    <tr>\n      <th>1983-11-21</th>\n      <td>NaN</td>\n      <td>59.0</td>\n      <td>41.0</td>\n    </tr>\n    <tr>\n      <th>1983-11-22</th>\n      <td>0.00</td>\n      <td>51.0</td>\n      <td>43.0</td>\n    </tr>\n    <tr>\n      <th>1983-11-23</th>\n      <td>0.11</td>\n      <td>55.0</td>\n      <td>48.0</td>\n    </tr>\n    <tr>\n      <th>1983-11-24</th>\n      <td>0.36</td>\n      <td>58.0</td>\n      <td>48.0</td>\n    </tr>\n    <tr>\n      <th>1983-11-25</th>\n      <td>0.70</td>\n      <td>58.0</td>\n      <td>43.0</td>\n    </tr>\n    <tr>\n      <th>1983-11-26</th>\n      <td>0.00</td>\n      <td>63.0</td>\n      <td>46.0</td>\n    </tr>\n    <tr>\n      <th>1983-11-27</th>\n      <td>0.00</td>\n      <td>58.0</td>\n      <td>43.0</td>\n    </tr>\n    <tr>\n      <th>1983-11-28</th>\n      <td>0.00</td>\n      <td>58.0</td>\n      <td>44.0</td>\n    </tr>\n    <tr>\n      <th>1983-11-29</th>\n      <td>0.00</td>\n      <td>55.0</td>\n      <td>44.0</td>\n    </tr>\n    <tr>\n      <th>1983-11-30</th>\n      <td>0.02</td>\n      <td>58.0</td>\n      <td>50.0</td>\n    </tr>\n  </tbody>\n</table>\n</div>"
     },
     "execution_count": 24,
     "metadata": {},
     "output_type": "execute_result"
    }
   ],
   "source": [
    "core_weather[\"1983-10-20\":\"1983-11-5\":]"
   ],
   "metadata": {
    "collapsed": false,
    "ExecuteTime": {
     "end_time": "2024-03-14T14:18:11.421886300Z",
     "start_time": "2024-03-14T14:18:11.402237300Z"
    }
   },
   "id": "3867ac77892f7a81",
   "execution_count": 24
  },
  {
   "cell_type": "markdown",
   "source": [
    "You can see before 29-10-1983 there is no precipitation. you can see the precip value from 1-11-1983 but problem here you can't tell whether it is raining or not "
   ],
   "metadata": {
    "collapsed": false
   },
   "id": "27a107dab568dce8"
  },
  {
   "cell_type": "markdown",
   "source": [
    "So you can replace the NAN value with 0 because most of the days it's not rain. so you can use fillna() method to replace the NAN value to zero"
   ],
   "metadata": {
    "collapsed": false
   },
   "id": "bf117fb561f4069b"
  },
  {
   "cell_type": "code",
   "outputs": [],
   "source": [
    "core_weather['precip']=core_weather['precip'].fillna(0)"
   ],
   "metadata": {
    "collapsed": false,
    "ExecuteTime": {
     "end_time": "2024-03-14T14:24:48.816870600Z",
     "start_time": "2024-03-14T14:24:48.811258800Z"
    }
   },
   "id": "4afa4ba44068eab8",
   "execution_count": 27
  },
  {
   "cell_type": "code",
   "outputs": [
    {
     "data": {
      "text/plain": "            precip  temp_max  temp_min\nDATE                                  \n2004-11-20     0.0       NaN       NaN\n2011-12-21     0.0      61.0       NaN\n2011-12-22     0.0      62.0       NaN\n2011-12-23     0.0      56.0       NaN\n2011-12-24     0.0      55.0       NaN\n2011-12-25     0.0      54.0       NaN\n2013-06-16     0.0       NaN       NaN\n2020-08-29     0.0       NaN       NaN\n2020-09-08     0.0       NaN       NaN\n2020-09-09     0.0       NaN       NaN",
      "text/html": "<div>\n<style scoped>\n    .dataframe tbody tr th:only-of-type {\n        vertical-align: middle;\n    }\n\n    .dataframe tbody tr th {\n        vertical-align: top;\n    }\n\n    .dataframe thead th {\n        text-align: right;\n    }\n</style>\n<table border=\"1\" class=\"dataframe\">\n  <thead>\n    <tr style=\"text-align: right;\">\n      <th></th>\n      <th>precip</th>\n      <th>temp_max</th>\n      <th>temp_min</th>\n    </tr>\n    <tr>\n      <th>DATE</th>\n      <th></th>\n      <th></th>\n      <th></th>\n    </tr>\n  </thead>\n  <tbody>\n    <tr>\n      <th>2004-11-20</th>\n      <td>0.0</td>\n      <td>NaN</td>\n      <td>NaN</td>\n    </tr>\n    <tr>\n      <th>2011-12-21</th>\n      <td>0.0</td>\n      <td>61.0</td>\n      <td>NaN</td>\n    </tr>\n    <tr>\n      <th>2011-12-22</th>\n      <td>0.0</td>\n      <td>62.0</td>\n      <td>NaN</td>\n    </tr>\n    <tr>\n      <th>2011-12-23</th>\n      <td>0.0</td>\n      <td>56.0</td>\n      <td>NaN</td>\n    </tr>\n    <tr>\n      <th>2011-12-24</th>\n      <td>0.0</td>\n      <td>55.0</td>\n      <td>NaN</td>\n    </tr>\n    <tr>\n      <th>2011-12-25</th>\n      <td>0.0</td>\n      <td>54.0</td>\n      <td>NaN</td>\n    </tr>\n    <tr>\n      <th>2013-06-16</th>\n      <td>0.0</td>\n      <td>NaN</td>\n      <td>NaN</td>\n    </tr>\n    <tr>\n      <th>2020-08-29</th>\n      <td>0.0</td>\n      <td>NaN</td>\n      <td>NaN</td>\n    </tr>\n    <tr>\n      <th>2020-09-08</th>\n      <td>0.0</td>\n      <td>NaN</td>\n      <td>NaN</td>\n    </tr>\n    <tr>\n      <th>2020-09-09</th>\n      <td>0.0</td>\n      <td>NaN</td>\n      <td>NaN</td>\n    </tr>\n  </tbody>\n</table>\n</div>"
     },
     "execution_count": 30,
     "metadata": {},
     "output_type": "execute_result"
    }
   ],
   "source": [
    "core_weather[pd.isnull(core_weather['temp_min'])]"
   ],
   "metadata": {
    "collapsed": false,
    "ExecuteTime": {
     "end_time": "2024-03-14T14:26:43.848809100Z",
     "start_time": "2024-03-14T14:26:43.837773900Z"
    }
   },
   "id": "a3918be1b1298079",
   "execution_count": 30
  },
  {
   "cell_type": "code",
   "outputs": [],
   "source": [
    "core_weather['temp_min']=core_weather['temp_min'].fillna(method='ffill')"
   ],
   "metadata": {
    "collapsed": false,
    "ExecuteTime": {
     "end_time": "2024-03-14T14:27:57.959989Z",
     "start_time": "2024-03-14T14:27:57.944328300Z"
    }
   },
   "id": "8476ef2066e38fd2",
   "execution_count": 31
  },
  {
   "cell_type": "code",
   "outputs": [],
   "source": [
    "core_weather['temp_max']=core_weather['temp_max'].fillna(method='ffill')"
   ],
   "metadata": {
    "collapsed": false,
    "ExecuteTime": {
     "end_time": "2024-03-14T14:29:21.770232100Z",
     "start_time": "2024-03-14T14:29:21.756350500Z"
    }
   },
   "id": "642c842f1384a6fc",
   "execution_count": 33
  },
  {
   "cell_type": "code",
   "outputs": [
    {
     "data": {
      "text/plain": "precip      0\ntemp_max    0\ntemp_min    0\ndtype: int64"
     },
     "execution_count": 34,
     "metadata": {},
     "output_type": "execute_result"
    }
   ],
   "source": [
    "core_weather.isnull().sum()"
   ],
   "metadata": {
    "collapsed": false,
    "ExecuteTime": {
     "end_time": "2024-03-14T14:29:28.086302500Z",
     "start_time": "2024-03-14T14:29:28.053650800Z"
    }
   },
   "id": "9879b0277631f9a2",
   "execution_count": 34
  },
  {
   "cell_type": "markdown",
   "source": [
    "So every missing value is sorted out."
   ],
   "metadata": {
    "collapsed": false
   },
   "id": "79a9d7d86d98bef3"
  },
  {
   "cell_type": "code",
   "outputs": [],
   "source": [],
   "metadata": {
    "collapsed": false
   },
   "id": "c9ccc5accc078e4c"
  }
 ],
 "metadata": {
  "kernelspec": {
   "display_name": "Python 3",
   "language": "python",
   "name": "python3"
  },
  "language_info": {
   "codemirror_mode": {
    "name": "ipython",
    "version": 2
   },
   "file_extension": ".py",
   "mimetype": "text/x-python",
   "name": "python",
   "nbconvert_exporter": "python",
   "pygments_lexer": "ipython2",
   "version": "2.7.6"
  }
 },
 "nbformat": 4,
 "nbformat_minor": 5
}
